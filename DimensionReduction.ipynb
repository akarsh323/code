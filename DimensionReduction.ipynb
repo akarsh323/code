{
  "nbformat": 4,
  "nbformat_minor": 0,
  "metadata": {
    "colab": {
      "provenance": [],
      "include_colab_link": true
    },
    "kernelspec": {
      "name": "python3",
      "display_name": "Python 3"
    }
  },
  "cells": [
    {
      "cell_type": "markdown",
      "metadata": {
        "id": "view-in-github",
        "colab_type": "text"
      },
      "source": [
        "<a href=\"https://colab.research.google.com/github/akarsh323/code/blob/main/DimensionReduction.ipynb\" target=\"_parent\"><img src=\"https://colab.research.google.com/assets/colab-badge.svg\" alt=\"Open In Colab\"/></a>"
      ]
    },
    {
      "cell_type": "markdown",
      "source": [
        "---\n",
        "\n",
        "**Load essential libraries**\n",
        "\n",
        "---"
      ],
      "metadata": {
        "id": "C0o-zgcznSo2"
      }
    },
    {
      "cell_type": "code",
      "metadata": {
        "id": "9bXubpvoUUTn",
        "colab": {
          "base_uri": "https://localhost:8080/"
        },
        "outputId": "dd4dd7f4-780d-49eb-f61a-f11fc2aeebe4"
      },
      "source": [
        "import pandas as pd\n",
        "import numpy as np\n",
        "import sys\n",
        "from scipy import linalg\n",
        "\n",
        "import matplotlib.pyplot as plt\n",
        "import matplotlib.cm as cm\n",
        "plt.style.use('seaborn-whitegrid')\n",
        "%matplotlib inline\n",
        "\n",
        "from sklearn.decomposition import PCA\n",
        "\n",
        "from sklearn.preprocessing import StandardScaler, RobustScaler\n",
        "from sklearn.datasets import make_blobs\n",
        "\n",
        "from scipy.sparse import random\n",
        "from scipy import stats"
      ],
      "execution_count": null,
      "outputs": [
        {
          "output_type": "stream",
          "name": "stderr",
          "text": [
            "<ipython-input-1-bfe20d5c28dd>:8: MatplotlibDeprecationWarning: The seaborn styles shipped by Matplotlib are deprecated since 3.6, as they no longer correspond to the styles shipped by seaborn. However, they will remain available as 'seaborn-v0_8-<style>'. Alternatively, directly use the seaborn API instead.\n",
            "  plt.style.use('seaborn-whitegrid')\n"
          ]
        }
      ]
    },
    {
      "cell_type": "markdown",
      "source": [
        "---\n",
        "\n",
        "**The following code cell mounts the Google Drive folder for accessing data etc.**\n",
        "\n",
        "---"
      ],
      "metadata": {
        "id": "EGzvIEJknYAd"
      }
    },
    {
      "cell_type": "code",
      "metadata": {
        "id": "4-QDMWggVk1A"
      },
      "source": [
        "## Mount Google drive folder if running in Colab\n",
        "if('google.colab' in sys.modules):\n",
        "    from google.colab import drive\n",
        "    drive.mount('/content/drive', force_remount = True)\n",
        "    # Change path below starting from /content/drive/MyDrive/Colab Notebooks/\n",
        "    # depending on how data is organized inside your Colab Notebooks folder in\n",
        "    # Google Drive\n",
        "    DIR = '/content/drive/MyDrive/Colab Notebooks/MAHE/Workshops/Applied Machine Learning Workshop Canara Engineering College_August2023'\n",
        "    DATA_DIR = DIR+'/Data/'\n",
        "else:\n",
        "    DATA_DIR = 'Data/'"
      ],
      "execution_count": null,
      "outputs": []
    },
    {
      "cell_type": "markdown",
      "source": [
        "**Data Matrix**\n",
        "\n",
        "Patient dataset corresponding to 4 patients and 3 features:\n",
        "\n",
        "![Patient dataset](https://bl3302files.storage.live.com/y4mlspYO-L_1kEGpBOCUilkrcj3evQtgjGXDt6v2NgJwtsJf2OZVnwRnUht7CmW_wk8VMlMyGfhDqgRubB3pLHXAOe3r-pQ5wtYUuOqR_gsZzHWCqE2IEbhBjUZob5suLplmONyMsAjr1twDPK7eGODrKyav1dP1aX3lWx1YV0hiLvuTEZ7-GujIypTMkaSV2or?width=256&height=153&cropmode=none)"
      ],
      "metadata": {
        "id": "2Nwtpcbfn3Tz"
      }
    },
    {
      "cell_type": "code",
      "source": [
        "## Create patient data matrix\n",
        "df_patient = pd.DataFrame({'HR' : [76, 74, 72, 78],\n",
        "                           'BP' : [126, 120, 118, 136],\n",
        "                           'Temp': [38, 38, 37.5, 37]})\n",
        "\n",
        "print(df_patient)\n",
        "#df_patient.shape\n",
        "#df_patient.head()\n",
        "print('----------')\n",
        "A = np.array(df_patient)\n",
        "print(A)"
      ],
      "metadata": {
        "id": "Odjnvd1mn390",
        "colab": {
          "base_uri": "https://localhost:8080/"
        },
        "outputId": "829828ed-7ca6-4cbf-8e8b-5025399a083c"
      },
      "execution_count": null,
      "outputs": [
        {
          "output_type": "stream",
          "name": "stdout",
          "text": [
            "   HR   BP  Temp\n",
            "0  76  126  38.0\n",
            "1  74  120  38.0\n",
            "2  72  118  37.5\n",
            "3  78  136  37.0\n",
            "----------\n",
            "[[ 76.  126.   38. ]\n",
            " [ 74.  120.   38. ]\n",
            " [ 72.  118.   37.5]\n",
            " [ 78.  136.   37. ]]\n"
          ]
        }
      ]
    },
    {
      "cell_type": "markdown",
      "source": [
        "\n",
        "---\n",
        "\n",
        "**Dot Product of Vectors**\n",
        "\n",
        "A scalar resulting from an elementwise multiplication and addition: $$a{\\color{cyan}\\cdot}b = {\\color{red}{a_1b_1}}+{\\color{green}{a_2b_2}}+\\cdots+{\\color{magenta}{a_nb_n}}$$\n",
        "\n",
        "The <font color=\"cyan\">dot</font> ${\\color{cyan}\\cdot}$ represents the computation of the dot product.\n",
        "\n",
        "---"
      ],
      "metadata": {
        "id": "YT-etkK_nkcb"
      }
    },
    {
      "cell_type": "code",
      "source": [
        "# Unit vectors\n",
        "e_1 = np.array([1, 0, 0, 0])\n",
        "e_3 = np.array([0, 0, 1, 0])\n",
        "\n",
        "# Ones vector\n",
        "o = np.array([1, 1, 1, 1])\n",
        "\n",
        "# Vector for 1st feature (heart rate)\n",
        "a_1 = A[:, 0]\n",
        "\n",
        "# Get 1st component of vector (heart rate for 1st patient)\n",
        "print(a_1[0])\n",
        "print(np.dot(a_1, e_1))\n",
        "print(np.dot(e_1, a_1))\n",
        "\n",
        "# Get 3rd component of vector (heart rate for 3rd patient)\n",
        "print(np.dot(a_1, e_3))\n",
        "\n",
        "# Get sum of 1st feature values (heart rate) for all patients\n",
        "print(np.sum(a_1))\n",
        "print(np.dot(a_1, o))\n",
        "\n",
        "# Average of 1st feature values (heart rate)\n",
        "print((1/len(a_1)) * np.dot(a_1, o))\n",
        "print(np.mean(a_1))"
      ],
      "metadata": {
        "id": "tVPMORxbnn-M",
        "colab": {
          "base_uri": "https://localhost:8080/"
        },
        "outputId": "7c05a91e-dd2d-4055-d7ed-6079988e92d9"
      },
      "execution_count": null,
      "outputs": [
        {
          "output_type": "stream",
          "name": "stdout",
          "text": [
            "76.0\n",
            "76.0\n",
            "76.0\n",
            "72.0\n",
            "300.0\n",
            "300.0\n",
            "75.0\n",
            "75.0\n"
          ]
        }
      ]
    },
    {
      "cell_type": "markdown",
      "source": [
        "---\n",
        "\n",
        "**Cauchy-Schwarz inequality**\n",
        "\n",
        "For any two $n$-vectors $a,b,$ it is always true that $$-1\\leq\\frac{a\\cdot b}{\\lVert a\\rVert\\lVert b\\rVert}\\leq 1.$$\n",
        "\n",
        "This is used to define the cosine of the angle between the vectors $a$ and $b$ as follows:$$\\cos(\\angle(a,b)) = \\frac{a\\cdot b}{\\lVert a\\rVert\\lVert b\\rVert}.$$\n",
        "\n",
        "---"
      ],
      "metadata": {
        "id": "Tx6WqvqJo-Zc"
      }
    },
    {
      "cell_type": "code",
      "source": [
        "## Simulate a patient dataset\n",
        "#np.random.seed(100)\n",
        "nsamples = 100\n",
        "df = pd.DataFrame({'Heart Rate (BPM)' : np.round(np.random.normal(74, 4, nsamples)),\n",
        "                   'Blood Pressure (mm Hg)' : np.round(np.random.normal(126, 8, nsamples))})\n",
        "print(df)"
      ],
      "metadata": {
        "id": "aAVASM6fo_oU",
        "colab": {
          "base_uri": "https://localhost:8080/"
        },
        "outputId": "9cb93fc3-10af-4e43-e236-4edb2251374f"
      },
      "execution_count": null,
      "outputs": [
        {
          "output_type": "stream",
          "name": "stdout",
          "text": [
            "    Heart Rate (BPM)  Blood Pressure (mm Hg)\n",
            "0               75.0                   127.0\n",
            "1               74.0                   127.0\n",
            "2               75.0                   124.0\n",
            "3               79.0                   128.0\n",
            "4               67.0                   123.0\n",
            "..               ...                     ...\n",
            "95              78.0                   120.0\n",
            "96              78.0                   116.0\n",
            "97              78.0                   132.0\n",
            "98              78.0                   128.0\n",
            "99              71.0                   128.0\n",
            "\n",
            "[100 rows x 2 columns]\n"
          ]
        }
      ]
    },
    {
      "cell_type": "code",
      "source": [
        "# Vector of heart rate and blood pressure\n",
        "a = df['Heart Rate (BPM)']\n",
        "b = df['Blood Pressure (mm Hg)']\n",
        "print(np.dot(a, b)) # Dot-product between the original vectors do not reveal much\n",
        "print(np.dot(a, b) / (np.linalg.norm(a) * np.linalg.norm(b))) # Recall angle(a,b) acos(aT*b/(||a||*||b||))\n",
        "\n",
        "# Mean-centered heart rate and blood pressure vectors\n",
        "a_mc = a - np.mean(a)\n",
        "b_mc = b - np.mean(b)\n",
        "print(np.dot(a_mc, b_mc)) # Covariance between a and b\n",
        "print(np.dot(a_mc, b_mc) / (np.linalg.norm(a_mc) * np.linalg.norm(b_mc))) # Correlation coefficient\n",
        "\n",
        "fig, ax = plt.subplots(1)\n",
        "ax.scatter(a, b, marker = 'o', color = 'blue')\n",
        "ax.set_xlabel('Heart Rate (BPM)')\n",
        "ax.set_ylabel('Blood Pressure (mm Hg')\n",
        "ax.set_title('Heart Rate vs. Blood Pressure')\n",
        "ax.set_xlim([0, np.max(a)])\n",
        "ax.set_ylim([0, np.max(b)])"
      ],
      "metadata": {
        "id": "_V2iYc7LpUbh",
        "colab": {
          "base_uri": "https://localhost:8080/",
          "height": 552
        },
        "outputId": "5fe8a087-16d7-4c8a-e8e7-d669c42ee2a4"
      },
      "execution_count": null,
      "outputs": [
        {
          "output_type": "stream",
          "name": "stdout",
          "text": [
            "938943.0\n",
            "0.996806599916627\n",
            "164.3900000000001\n",
            "0.052559086089431974\n"
          ]
        },
        {
          "output_type": "execute_result",
          "data": {
            "text/plain": [
              "(0.0, 142.0)"
            ]
          },
          "metadata": {},
          "execution_count": 6
        },
        {
          "output_type": "display_data",
          "data": {
            "text/plain": [
              "<Figure size 640x480 with 1 Axes>"
            ],
            "image/png": "[encoded data removed]"
          },
          "metadata": {}
        }
      ]
    },
    {
      "cell_type": "markdown",
      "source": [
        "**Projection of vectors and its relationship to dot product**\n",
        "\n",
        "![Vector projection](https://bl3302files.storage.live.com/y4miuCtKP9ptv6lIB8EqEU_u7cbEydy0UsEgHl4ECni2UVONtvKZgf73pIQ4vuA99ZHP8K96W_1i-QuhSIN12IudLaUTF3_jZzFqVfsaRK7QubMS9p5C1ErN6tB8I_UqQZnSY2JSGnu0IvJQrRcd2rX2Hzngfka3tCqJhbAMdElywcis2gRaoiuEGDVqaXpZYYp?width=256&height=209&cropmode=none)"
      ],
      "metadata": {
        "id": "C6xSd4hyr0ti"
      }
    },
    {
      "cell_type": "code",
      "source": [
        "np.mean((a-np.mean(a))**2)\n",
        "#how much is it devating from avg heartrate"
      ],
      "metadata": {
        "id": "yajyVK_NjZx7",
        "colab": {
          "base_uri": "https://localhost:8080/"
        },
        "outputId": "10873a8b-1417-4071-e109-388b008b49bd"
      },
      "execution_count": null,
      "outputs": [
        {
          "output_type": "execute_result",
          "data": {
            "text/plain": [
              "15.693900000000003"
            ]
          },
          "metadata": {},
          "execution_count": 7
        }
      ]
    },
    {
      "cell_type": "code",
      "source": [
        "np.sqrt(np.mean((a-np.mean(a))**2))"
      ],
      "metadata": {
        "id": "A1Q2DQUpkGum"
      },
      "execution_count": null,
      "outputs": []
    },
    {
      "cell_type": "code",
      "source": [
        "print(A)"
      ],
      "metadata": {
        "colab": {
          "base_uri": "https://localhost:8080/"
        },
        "id": "rgBtOpr4Mnpg",
        "outputId": "c6c59017-192a-40f5-c7c7-fad665706c70"
      },
      "execution_count": null,
      "outputs": [
        {
          "output_type": "stream",
          "name": "stdout",
          "text": [
            "[[ 76.  126.   38. ]\n",
            " [ 74.  120.   38. ]\n",
            " [ 72.  118.   37.5]\n",
            " [ 78.  136.   37. ]]\n"
          ]
        }
      ]
    },
    {
      "cell_type": "code",
      "source": [
        "v=np.array([1,1,1])\n",
        "print(np.dot(A[0, :], v) / np.linalg.norm(v))\n",
        "print(np.dot(A[1, :], v) / np.linalg.norm(v))\n",
        "print(np.dot(A[2, :], v) / np.linalg.norm(v))\n",
        "print(np.dot(A[3, :], v) / np.linalg.norm(v))"
      ],
      "metadata": {
        "id": "XlmMiSOso6cq",
        "colab": {
          "base_uri": "https://localhost:8080/"
        },
        "outputId": "0407eedf-7483-4a78-8cff-0544f79f8b2b"
      },
      "execution_count": null,
      "outputs": [
        {
          "output_type": "stream",
          "name": "stdout",
          "text": [
            "138.5640646055102\n",
            "133.9452624519932\n",
            "131.34718624063987\n",
            "144.91491756659607\n"
          ]
        }
      ]
    },
    {
      "cell_type": "code",
      "source": [
        "np.dot(A, v)/np.linalg.norm(v)"
      ],
      "metadata": {
        "id": "sKo2V2pqpmt2",
        "colab": {
          "base_uri": "https://localhost:8080/"
        },
        "outputId": "53dbbba9-0b81-480c-d4bf-df511f458e6c"
      },
      "execution_count": null,
      "outputs": [
        {
          "output_type": "execute_result",
          "data": {
            "text/plain": [
              "array([138.56406461, 133.94526245, 131.34718624, 144.91491757])"
            ]
          },
          "metadata": {},
          "execution_count": 15
        }
      ]
    },
    {
      "cell_type": "code",
      "source": [
        "## Scalar projection of first patient onto a direction v\n",
        "v = np.array([1, 0, 0])\n",
        "print(np.dot(A[0], v) / np.linalg.norm(v))\n",
        "v = np.array([0, 1, 0])\n",
        "print(np.dot(A[0], v) / np.linalg.norm(v))\n",
        "v = np.array([1, 1, 1])\n",
        "print(np.dot(A[0], v) / np.linalg.norm(v))\n",
        "v = np.array([-1, -1, -1])\n",
        "print(np.dot(A[0], v) / np.linalg.norm(v))"
      ],
      "metadata": {
        "id": "ODKXD_zEVYf4",
        "colab": {
          "base_uri": "https://localhost:8080/"
        },
        "outputId": "b1f2a40b-fe29-4319-c84c-fffc4ac37bda"
      },
      "execution_count": null,
      "outputs": [
        {
          "output_type": "stream",
          "name": "stdout",
          "text": [
            "76.0\n",
            "126.0\n",
            "138.5640646055102\n",
            "-138.5640646055102\n"
          ]
        }
      ]
    },
    {
      "cell_type": "code",
      "source": [
        "## Scalar projection of all patients onto a direction v\n",
        "v = np.array([1, 0, 0])\n",
        "print((1/np.linalg.norm(v)) * np.dot(A, v))\n",
        "v = np.array([0, 1, 0])\n",
        "print((1/np.linalg.norm(v)) * np.dot(A, v))\n",
        "v = np.array([1, 1, 1])\n",
        "print((1/np.linalg.norm(v)) * np.dot(A, v))\n",
        "v = np.array([-1, -1, -1])\n",
        "print((1/np.linalg.norm(v)) * np.dot(A, v))"
      ],
      "metadata": {
        "id": "hGzRCudzWrjk"
      },
      "execution_count": null,
      "outputs": []
    },
    {
      "cell_type": "markdown",
      "source": [
        "---\n",
        "\n",
        "Load food-texture data\n",
        "\n",
        "---"
      ],
      "metadata": {
        "id": "wAW4l69QsTza"
      }
    },
    {
      "cell_type": "code",
      "source": [
        "## Load data\n",
        "FILE = '/content/food-texture.csv'\n",
        "df_food = pd.read_csv(FILE, index_col = 0)\n",
        "df_food.head()"
      ],
      "metadata": {
        "id": "Io6fXPHqsNFJ",
        "colab": {
          "base_uri": "https://localhost:8080/",
          "height": 206
        },
        "outputId": "bc798410-d8e6-475b-ab04-e8e2b5f02d87"
      },
      "execution_count": null,
      "outputs": [
        {
          "output_type": "execute_result",
          "data": {
            "text/plain": [
              "       Oil  Density  Crispy  Fracture  Hardness\n",
              "B110  16.5     2955      10        23        97\n",
              "B136  17.7     2660      14         9       139\n",
              "B171  16.2     2870      12        17       143\n",
              "B192  16.7     2920      10        31        95\n",
              "B225  16.3     2975      11        26       143"
            ],
            "text/html": [
              "\n",
              "  <div id=\"df-6299948f-9a83-4d30-9cac-8f51ca5739ed\" class=\"colab-df-container\">\n",
              "    <div>\n",
              "<style scoped>\n",
              "    .dataframe tbody tr th:only-of-type {\n",
              "        vertical-align: middle;\n",
              "    }\n",
              "\n",
              "    .dataframe tbody tr th {\n",
              "        vertical-align: top;\n",
              "    }\n",
              "\n",
              "    .dataframe thead th {\n",
              "        text-align: right;\n",
              "    }\n",
              "</style>\n",
              "<table border=\"1\" class=\"dataframe\">\n",
              "  <thead>\n",
              "    <tr style=\"text-align: right;\">\n",
              "      <th></th>\n",
              "      <th>Oil</th>\n",
              "      <th>Density</th>\n",
              "      <th>Crispy</th>\n",
              "      <th>Fracture</th>\n",
              "      <th>Hardness</th>\n",
              "    </tr>\n",
              "  </thead>\n",
              "  <tbody>\n",
              "    <tr>\n",
              "      <th>B110</th>\n",
              "      <td>16.5</td>\n",
              "      <td>2955</td>\n",
              "      <td>10</td>\n",
              "      <td>23</td>\n",
              "      <td>97</td>\n",
              "    </tr>\n",
              "    <tr>\n",
              "      <th>B136</th>\n",
              "      <td>17.7</td>\n",
              "      <td>2660</td>\n",
              "      <td>14</td>\n",
              "      <td>9</td>\n",
              "      <td>139</td>\n",
              "    </tr>\n",
              "    <tr>\n",
              "      <th>B171</th>\n",
              "      <td>16.2</td>\n",
              "      <td>2870</td>\n",
              "      <td>12</td>\n",
              "      <td>17</td>\n",
              "      <td>143</td>\n",
              "    </tr>\n",
              "    <tr>\n",
              "      <th>B192</th>\n",
              "      <td>16.7</td>\n",
              "      <td>2920</td>\n",
              "      <td>10</td>\n",
              "      <td>31</td>\n",
              "      <td>95</td>\n",
              "    </tr>\n",
              "    <tr>\n",
              "      <th>B225</th>\n",
              "      <td>16.3</td>\n",
              "      <td>2975</td>\n",
              "      <td>11</td>\n",
              "      <td>26</td>\n",
              "      <td>143</td>\n",
              "    </tr>\n",
              "  </tbody>\n",
              "</table>\n",
              "</div>\n",
              "    <div class=\"colab-df-buttons\">\n",
              "\n",
              "  <div class=\"colab-df-container\">\n",
              "    <button class=\"colab-df-convert\" onclick=\"convertToInteractive('df-6299948f-9a83-4d30-9cac-8f51ca5739ed')\"\n",
              "            title=\"Convert this dataframe to an interactive table.\"\n",
              "            style=\"display:none;\">\n",
              "\n",
              "  <svg xmlns=\"http://www.w3.org/2000/svg\" height=\"24px\" viewBox=\"0 -960 960 960\">\n",
              "    <path d=\"M120-120v-720h720v720H120Zm60-500h600v-160H180v160Zm220 220h160v-160H400v160Zm0 220h160v-160H400v160ZM180-400h160v-160H180v160Zm440 0h160v-160H620v160ZM180-180h160v-160H180v160Zm440 0h160v-160H620v160Z\"/>\n",
              "  </svg>\n",
              "    </button>\n",
              "\n",
              "  <style>\n",
              "    .colab-df-container {\n",
              "      display:flex;\n",
              "      gap: 12px;\n",
              "    }\n",
              "\n",
              "    .colab-df-convert {\n",
              "      background-color: #E8F0FE;\n",
              "      border: none;\n",
              "      border-radius: 50%;\n",
              "      cursor: pointer;\n",
              "      display: none;\n",
              "      fill: #1967D2;\n",
              "      height: 32px;\n",
              "      padding: 0 0 0 0;\n",
              "      width: 32px;\n",
              "    }\n",
              "\n",
              "    .colab-df-convert:hover {\n",
              "      background-color: #E2EBFA;\n",
              "      box-shadow: 0px 1px 2px rgba(60, 64, 67, 0.3), 0px 1px 3px 1px rgba(60, 64, 67, 0.15);\n",
              "      fill: #174EA6;\n",
              "    }\n",
              "\n",
              "    .colab-df-buttons div {\n",
              "      margin-bottom: 4px;\n",
              "    }\n",
              "\n",
              "    [theme=dark] .colab-df-convert {\n",
              "      background-color: #3B4455;\n",
              "      fill: #D2E3FC;\n",
              "    }\n",
              "\n",
              "    [theme=dark] .colab-df-convert:hover {\n",
              "      background-color: #434B5C;\n",
              "      box-shadow: 0px 1px 3px 1px rgba(0, 0, 0, 0.15);\n",
              "      filter: drop-shadow(0px 1px 2px rgba(0, 0, 0, 0.3));\n",
              "      fill: #FFFFFF;\n",
              "    }\n",
              "  </style>\n",
              "\n",
              "    <script>\n",
              "      const buttonEl =\n",
              "        document.querySelector('#df-6299948f-9a83-4d30-9cac-8f51ca5739ed button.colab-df-convert');\n",
              "      buttonEl.style.display =\n",
              "        google.colab.kernel.accessAllowed ? 'block' : 'none';\n",
              "\n",
              "      async function convertToInteractive(key) {\n",
              "        const element = document.querySelector('#df-6299948f-9a83-4d30-9cac-8f51ca5739ed');\n",
              "        const dataTable =\n",
              "          await google.colab.kernel.invokeFunction('convertToInteractive',\n",
              "                                                    [key], {});\n",
              "        if (!dataTable) return;\n",
              "\n",
              "        const docLinkHtml = 'Like what you see? Visit the ' +\n",
              "          '<a target=\"_blank\" href=https://colab.research.google.com/notebooks/data_table.ipynb>data table notebook</a>'\n",
              "          + ' to learn more about interactive tables.';\n",
              "        element.innerHTML = '';\n",
              "        dataTable['output_type'] = 'display_data';\n",
              "        await google.colab.output.renderOutput(dataTable, element);\n",
              "        const docLink = document.createElement('div');\n",
              "        docLink.innerHTML = docLinkHtml;\n",
              "        element.appendChild(docLink);\n",
              "      }\n",
              "    </script>\n",
              "  </div>\n",
              "\n",
              "\n",
              "<div id=\"df-4e21cbca-c468-4f25-b345-fd296887e727\">\n",
              "  <button class=\"colab-df-quickchart\" onclick=\"quickchart('df-4e21cbca-c468-4f25-b345-fd296887e727')\"\n",
              "            title=\"Suggest charts\"\n",
              "            style=\"display:none;\">\n",
              "\n",
              "<svg xmlns=\"http://www.w3.org/2000/svg\" height=\"24px\"viewBox=\"0 0 24 24\"\n",
              "     width=\"24px\">\n",
              "    <g>\n",
              "        <path d=\"M19 3H5c-1.1 0-2 .9-2 2v14c0 1.1.9 2 2 2h14c1.1 0 2-.9 2-2V5c0-1.1-.9-2-2-2zM9 17H7v-7h2v7zm4 0h-2V7h2v10zm4 0h-2v-4h2v4z\"/>\n",
              "    </g>\n",
              "</svg>\n",
              "  </button>\n",
              "\n",
              "<style>\n",
              "  .colab-df-quickchart {\n",
              "      --bg-color: #E8F0FE;\n",
              "      --fill-color: #1967D2;\n",
              "      --hover-bg-color: #E2EBFA;\n",
              "      --hover-fill-color: #174EA6;\n",
              "      --disabled-fill-color: #AAA;\n",
              "      --disabled-bg-color: #DDD;\n",
              "  }\n",
              "\n",
              "  [theme=dark] .colab-df-quickchart {\n",
              "      --bg-color: #3B4455;\n",
              "      --fill-color: #D2E3FC;\n",
              "      --hover-bg-color: #434B5C;\n",
              "      --hover-fill-color: #FFFFFF;\n",
              "      --disabled-bg-color: #3B4455;\n",
              "      --disabled-fill-color: #666;\n",
              "  }\n",
              "\n",
              "  .colab-df-quickchart {\n",
              "    background-color: var(--bg-color);\n",
              "    border: none;\n",
              "    border-radius: 50%;\n",
              "    cursor: pointer;\n",
              "    display: none;\n",
              "    fill: var(--fill-color);\n",
              "    height: 32px;\n",
              "    padding: 0;\n",
              "    width: 32px;\n",
              "  }\n",
              "\n",
              "  .colab-df-quickchart:hover {\n",
              "    background-color: var(--hover-bg-color);\n",
              "    box-shadow: 0 1px 2px rgba(60, 64, 67, 0.3), 0 1px 3px 1px rgba(60, 64, 67, 0.15);\n",
              "    fill: var(--button-hover-fill-color);\n",
              "  }\n",
              "\n",
              "  .colab-df-quickchart-complete:disabled,\n",
              "  .colab-df-quickchart-complete:disabled:hover {\n",
              "    background-color: var(--disabled-bg-color);\n",
              "    fill: var(--disabled-fill-color);\n",
              "    box-shadow: none;\n",
              "  }\n",
              "\n",
              "  .colab-df-spinner {\n",
              "    border: 2px solid var(--fill-color);\n",
              "    border-color: transparent;\n",
              "    border-bottom-color: var(--fill-color);\n",
              "    animation:\n",
              "      spin 1s steps(1) infinite;\n",
              "  }\n",
              "\n",
              "  @keyframes spin {\n",
              "    0% {\n",
              "      border-color: transparent;\n",
              "      border-bottom-color: var(--fill-color);\n",
              "      border-left-color: var(--fill-color);\n",
              "    }\n",
              "    20% {\n",
              "      border-color: transparent;\n",
              "      border-left-color: var(--fill-color);\n",
              "      border-top-color: var(--fill-color);\n",
              "    }\n",
              "    30% {\n",
              "      border-color: transparent;\n",
              "      border-left-color: var(--fill-color);\n",
              "      border-top-color: var(--fill-color);\n",
              "      border-right-color: var(--fill-color);\n",
              "    }\n",
              "    40% {\n",
              "      border-color: transparent;\n",
              "      border-right-color: var(--fill-color);\n",
              "      border-top-color: var(--fill-color);\n",
              "    }\n",
              "    60% {\n",
              "      border-color: transparent;\n",
              "      border-right-color: var(--fill-color);\n",
              "    }\n",
              "    80% {\n",
              "      border-color: transparent;\n",
              "      border-right-color: var(--fill-color);\n",
              "      border-bottom-color: var(--fill-color);\n",
              "    }\n",
              "    90% {\n",
              "      border-color: transparent;\n",
              "      border-bottom-color: var(--fill-color);\n",
              "    }\n",
              "  }\n",
              "</style>\n",
              "\n",
              "  <script>\n",
              "    async function quickchart(key) {\n",
              "      const quickchartButtonEl =\n",
              "        document.querySelector('#' + key + ' button');\n",
              "      quickchartButtonEl.disabled = true;  // To prevent multiple clicks.\n",
              "      quickchartButtonEl.classList.add('colab-df-spinner');\n",
              "      try {\n",
              "        const charts = await google.colab.kernel.invokeFunction(\n",
              "            'suggestCharts', [key], {});\n",
              "      } catch (error) {\n",
              "        console.error('Error during call to suggestCharts:', error);\n",
              "      }\n",
              "      quickchartButtonEl.classList.remove('colab-df-spinner');\n",
              "      quickchartButtonEl.classList.add('colab-df-quickchart-complete');\n",
              "    }\n",
              "    (() => {\n",
              "      let quickchartButtonEl =\n",
              "        document.querySelector('#df-4e21cbca-c468-4f25-b345-fd296887e727 button');\n",
              "      quickchartButtonEl.style.display =\n",
              "        google.colab.kernel.accessAllowed ? 'block' : 'none';\n",
              "    })();\n",
              "  </script>\n",
              "</div>\n",
              "    </div>\n",
              "  </div>\n"
            ]
          },
          "metadata": {},
          "execution_count": 26
        }
      ]
    },
    {
      "cell_type": "code",
      "source": [
        "## Print the names of the rows & columns in the dataframe\n",
        "print(df_food.index)\n",
        "print(df_food.columns)"
      ],
      "metadata": {
        "id": "f7lW45FMsYsw",
        "colab": {
          "base_uri": "https://localhost:8080/"
        },
        "outputId": "ae75b146-e8b3-43b4-abe0-c407a83326be"
      },
      "execution_count": null,
      "outputs": [
        {
          "output_type": "stream",
          "name": "stdout",
          "text": [
            "Index(['B110', 'B136', 'B171', 'B192', 'B225', 'B237', 'B261', 'B264', 'B353',\n",
            "       'B360', 'B366', 'B377', 'B391', 'B397', 'B404', 'B437', 'B445', 'B462',\n",
            "       'B485', 'B488', 'B502', 'B554', 'B556', 'B575', 'B576', 'B605', 'B612',\n",
            "       'B615', 'B649', 'B665', 'B674', 'B692', 'B694', 'B719', 'B727', 'B758',\n",
            "       'B776', 'B799', 'B836', 'B848', 'B861', 'B869', 'B876', 'B882', 'B889',\n",
            "       'B907', 'B911', 'B923', 'B971', 'B998'],\n",
            "      dtype='object')\n",
            "Index(['Oil', 'Density', 'Crispy', 'Fracture', 'Hardness'], dtype='object')\n"
          ]
        }
      ]
    },
    {
      "cell_type": "code",
      "source": [
        "## Get values in the 'Density' column\n",
        "print(df_food['Density'])"
      ],
      "metadata": {
        "id": "9QMB0Sd_se6g"
      },
      "execution_count": null,
      "outputs": []
    },
    {
      "cell_type": "code",
      "source": [
        "## Get features for the sample B136\n",
        "print(df_food.loc['B136', :])"
      ],
      "metadata": {
        "id": "N7b5i4plshwn",
        "colab": {
          "base_uri": "https://localhost:8080/"
        },
        "outputId": "7d668e25-8965-45a2-d957-7960f4154d89"
      },
      "execution_count": null,
      "outputs": [
        {
          "output_type": "stream",
          "name": "stdout",
          "text": [
            "Oil           17.7\n",
            "Density     2660.0\n",
            "Crispy        14.0\n",
            "Fracture       9.0\n",
            "Hardness     139.0\n",
            "Name: B136, dtype: float64\n"
          ]
        }
      ]
    },
    {
      "cell_type": "code",
      "source": [
        "## Get 'Oil' and 'Density' values for the\n",
        "## samples B136 and B225\n",
        "feature_names = ['Oil', 'Density']\n",
        "sample_names = ['B136', 'B225']\n",
        "df_food.loc[sample_names, feature_names]"
      ],
      "metadata": {
        "id": "EHtb2jPdsnmK",
        "colab": {
          "base_uri": "https://localhost:8080/",
          "height": 112
        },
        "outputId": "dad9645c-6da7-4e3c-eb73-93a2e594ce0b"
      },
      "execution_count": null,
      "outputs": [
        {
          "output_type": "execute_result",
          "data": {
            "text/plain": [
              "       Oil  Density\n",
              "B136  17.7     2660\n",
              "B225  16.3     2975"
            ],
            "text/html": [
              "\n",
              "  <div id=\"df-33485fd7-78a5-40bb-8d5f-04df51bcda60\" class=\"colab-df-container\">\n",
              "    <div>\n",
              "<style scoped>\n",
              "    .dataframe tbody tr th:only-of-type {\n",
              "        vertical-align: middle;\n",
              "    }\n",
              "\n",
              "    .dataframe tbody tr th {\n",
              "        vertical-align: top;\n",
              "    }\n",
              "\n",
              "    .dataframe thead th {\n",
              "        text-align: right;\n",
              "    }\n",
              "</style>\n",
              "<table border=\"1\" class=\"dataframe\">\n",
              "  <thead>\n",
              "    <tr style=\"text-align: right;\">\n",
              "      <th></th>\n",
              "      <th>Oil</th>\n",
              "      <th>Density</th>\n",
              "    </tr>\n",
              "  </thead>\n",
              "  <tbody>\n",
              "    <tr>\n",
              "      <th>B136</th>\n",
              "      <td>17.7</td>\n",
              "      <td>2660</td>\n",
              "    </tr>\n",
              "    <tr>\n",
              "      <th>B225</th>\n",
              "      <td>16.3</td>\n",
              "      <td>2975</td>\n",
              "    </tr>\n",
              "  </tbody>\n",
              "</table>\n",
              "</div>\n",
              "    <div class=\"colab-df-buttons\">\n",
              "\n",
              "  <div class=\"colab-df-container\">\n",
              "    <button class=\"colab-df-convert\" onclick=\"convertToInteractive('df-33485fd7-78a5-40bb-8d5f-04df51bcda60')\"\n",
              "            title=\"Convert this dataframe to an interactive table.\"\n",
              "            style=\"display:none;\">\n",
              "\n",
              "  <svg xmlns=\"http://www.w3.org/2000/svg\" height=\"24px\" viewBox=\"0 -960 960 960\">\n",
              "    <path d=\"M120-120v-720h720v720H120Zm60-500h600v-160H180v160Zm220 220h160v-160H400v160Zm0 220h160v-160H400v160ZM180-400h160v-160H180v160Zm440 0h160v-160H620v160ZM180-180h160v-160H180v160Zm440 0h160v-160H620v160Z\"/>\n",
              "  </svg>\n",
              "    </button>\n",
              "\n",
              "  <style>\n",
              "    .colab-df-container {\n",
              "      display:flex;\n",
              "      gap: 12px;\n",
              "    }\n",
              "\n",
              "    .colab-df-convert {\n",
              "      background-color: #E8F0FE;\n",
              "      border: none;\n",
              "      border-radius: 50%;\n",
              "      cursor: pointer;\n",
              "      display: none;\n",
              "      fill: #1967D2;\n",
              "      height: 32px;\n",
              "      padding: 0 0 0 0;\n",
              "      width: 32px;\n",
              "    }\n",
              "\n",
              "    .colab-df-convert:hover {\n",
              "      background-color: #E2EBFA;\n",
              "      box-shadow: 0px 1px 2px rgba(60, 64, 67, 0.3), 0px 1px 3px 1px rgba(60, 64, 67, 0.15);\n",
              "      fill: #174EA6;\n",
              "    }\n",
              "\n",
              "    .colab-df-buttons div {\n",
              "      margin-bottom: 4px;\n",
              "    }\n",
              "\n",
              "    [theme=dark] .colab-df-convert {\n",
              "      background-color: #3B4455;\n",
              "      fill: #D2E3FC;\n",
              "    }\n",
              "\n",
              "    [theme=dark] .colab-df-convert:hover {\n",
              "      background-color: #434B5C;\n",
              "      box-shadow: 0px 1px 3px 1px rgba(0, 0, 0, 0.15);\n",
              "      filter: drop-shadow(0px 1px 2px rgba(0, 0, 0, 0.3));\n",
              "      fill: #FFFFFF;\n",
              "    }\n",
              "  </style>\n",
              "\n",
              "    <script>\n",
              "      const buttonEl =\n",
              "        document.querySelector('#df-33485fd7-78a5-40bb-8d5f-04df51bcda60 button.colab-df-convert');\n",
              "      buttonEl.style.display =\n",
              "        google.colab.kernel.accessAllowed ? 'block' : 'none';\n",
              "\n",
              "      async function convertToInteractive(key) {\n",
              "        const element = document.querySelector('#df-33485fd7-78a5-40bb-8d5f-04df51bcda60');\n",
              "        const dataTable =\n",
              "          await google.colab.kernel.invokeFunction('convertToInteractive',\n",
              "                                                    [key], {});\n",
              "        if (!dataTable) return;\n",
              "\n",
              "        const docLinkHtml = 'Like what you see? Visit the ' +\n",
              "          '<a target=\"_blank\" href=https://colab.research.google.com/notebooks/data_table.ipynb>data table notebook</a>'\n",
              "          + ' to learn more about interactive tables.';\n",
              "        element.innerHTML = '';\n",
              "        dataTable['output_type'] = 'display_data';\n",
              "        await google.colab.output.renderOutput(dataTable, element);\n",
              "        const docLink = document.createElement('div');\n",
              "        docLink.innerHTML = docLinkHtml;\n",
              "        element.appendChild(docLink);\n",
              "      }\n",
              "    </script>\n",
              "  </div>\n",
              "\n",
              "\n",
              "<div id=\"df-de41f333-2c8f-444f-87bb-91c3bb9b76fe\">\n",
              "  <button class=\"colab-df-quickchart\" onclick=\"quickchart('df-de41f333-2c8f-444f-87bb-91c3bb9b76fe')\"\n",
              "            title=\"Suggest charts\"\n",
              "            style=\"display:none;\">\n",
              "\n",
              "<svg xmlns=\"http://www.w3.org/2000/svg\" height=\"24px\"viewBox=\"0 0 24 24\"\n",
              "     width=\"24px\">\n",
              "    <g>\n",
              "        <path d=\"M19 3H5c-1.1 0-2 .9-2 2v14c0 1.1.9 2 2 2h14c1.1 0 2-.9 2-2V5c0-1.1-.9-2-2-2zM9 17H7v-7h2v7zm4 0h-2V7h2v10zm4 0h-2v-4h2v4z\"/>\n",
              "    </g>\n",
              "</svg>\n",
              "  </button>\n",
              "\n",
              "<style>\n",
              "  .colab-df-quickchart {\n",
              "      --bg-color: #E8F0FE;\n",
              "      --fill-color: #1967D2;\n",
              "      --hover-bg-color: #E2EBFA;\n",
              "      --hover-fill-color: #174EA6;\n",
              "      --disabled-fill-color: #AAA;\n",
              "      --disabled-bg-color: #DDD;\n",
              "  }\n",
              "\n",
              "  [theme=dark] .colab-df-quickchart {\n",
              "      --bg-color: #3B4455;\n",
              "      --fill-color: #D2E3FC;\n",
              "      --hover-bg-color: #434B5C;\n",
              "      --hover-fill-color: #FFFFFF;\n",
              "      --disabled-bg-color: #3B4455;\n",
              "      --disabled-fill-color: #666;\n",
              "  }\n",
              "\n",
              "  .colab-df-quickchart {\n",
              "    background-color: var(--bg-color);\n",
              "    border: none;\n",
              "    border-radius: 50%;\n",
              "    cursor: pointer;\n",
              "    display: none;\n",
              "    fill: var(--fill-color);\n",
              "    height: 32px;\n",
              "    padding: 0;\n",
              "    width: 32px;\n",
              "  }\n",
              "\n",
              "  .colab-df-quickchart:hover {\n",
              "    background-color: var(--hover-bg-color);\n",
              "    box-shadow: 0 1px 2px rgba(60, 64, 67, 0.3), 0 1px 3px 1px rgba(60, 64, 67, 0.15);\n",
              "    fill: var(--button-hover-fill-color);\n",
              "  }\n",
              "\n",
              "  .colab-df-quickchart-complete:disabled,\n",
              "  .colab-df-quickchart-complete:disabled:hover {\n",
              "    background-color: var(--disabled-bg-color);\n",
              "    fill: var(--disabled-fill-color);\n",
              "    box-shadow: none;\n",
              "  }\n",
              "\n",
              "  .colab-df-spinner {\n",
              "    border: 2px solid var(--fill-color);\n",
              "    border-color: transparent;\n",
              "    border-bottom-color: var(--fill-color);\n",
              "    animation:\n",
              "      spin 1s steps(1) infinite;\n",
              "  }\n",
              "\n",
              "  @keyframes spin {\n",
              "    0% {\n",
              "      border-color: transparent;\n",
              "      border-bottom-color: var(--fill-color);\n",
              "      border-left-color: var(--fill-color);\n",
              "    }\n",
              "    20% {\n",
              "      border-color: transparent;\n",
              "      border-left-color: var(--fill-color);\n",
              "      border-top-color: var(--fill-color);\n",
              "    }\n",
              "    30% {\n",
              "      border-color: transparent;\n",
              "      border-left-color: var(--fill-color);\n",
              "      border-top-color: var(--fill-color);\n",
              "      border-right-color: var(--fill-color);\n",
              "    }\n",
              "    40% {\n",
              "      border-color: transparent;\n",
              "      border-right-color: var(--fill-color);\n",
              "      border-top-color: var(--fill-color);\n",
              "    }\n",
              "    60% {\n",
              "      border-color: transparent;\n",
              "      border-right-color: var(--fill-color);\n",
              "    }\n",
              "    80% {\n",
              "      border-color: transparent;\n",
              "      border-right-color: var(--fill-color);\n",
              "      border-bottom-color: var(--fill-color);\n",
              "    }\n",
              "    90% {\n",
              "      border-color: transparent;\n",
              "      border-bottom-color: var(--fill-color);\n",
              "    }\n",
              "  }\n",
              "</style>\n",
              "\n",
              "  <script>\n",
              "    async function quickchart(key) {\n",
              "      const quickchartButtonEl =\n",
              "        document.querySelector('#' + key + ' button');\n",
              "      quickchartButtonEl.disabled = true;  // To prevent multiple clicks.\n",
              "      quickchartButtonEl.classList.add('colab-df-spinner');\n",
              "      try {\n",
              "        const charts = await google.colab.kernel.invokeFunction(\n",
              "            'suggestCharts', [key], {});\n",
              "      } catch (error) {\n",
              "        console.error('Error during call to suggestCharts:', error);\n",
              "      }\n",
              "      quickchartButtonEl.classList.remove('colab-df-spinner');\n",
              "      quickchartButtonEl.classList.add('colab-df-quickchart-complete');\n",
              "    }\n",
              "    (() => {\n",
              "      let quickchartButtonEl =\n",
              "        document.querySelector('#df-de41f333-2c8f-444f-87bb-91c3bb9b76fe button');\n",
              "      quickchartButtonEl.style.display =\n",
              "        google.colab.kernel.accessAllowed ? 'block' : 'none';\n",
              "    })();\n",
              "  </script>\n",
              "</div>\n",
              "    </div>\n",
              "  </div>\n"
            ]
          },
          "metadata": {},
          "execution_count": 32
        }
      ]
    },
    {
      "cell_type": "code",
      "source": [
        "df_food.dtypes"
      ],
      "metadata": {
        "id": "CUchVFt1tAdc",
        "colab": {
          "base_uri": "https://localhost:8080/"
        },
        "outputId": "e94cb95f-bdd6-4e1d-c148-a8187f691804"
      },
      "execution_count": null,
      "outputs": [
        {
          "output_type": "execute_result",
          "data": {
            "text/plain": [
              "Oil         float64\n",
              "Density       int64\n",
              "Crispy        int64\n",
              "Fracture      int64\n",
              "Hardness      int64\n",
              "dtype: object"
            ]
          },
          "metadata": {},
          "execution_count": 33
        }
      ]
    },
    {
      "cell_type": "code",
      "source": [
        "## Create a list of continuous and categorical column names\n",
        "continuous_cols = ['Oil', 'Density', 'Fracture', 'Hardness']\n",
        "categorical_cols = ['Crispy']\n",
        "\n",
        "# Typecasting\n",
        "df_food[categorical_cols] = df_food[categorical_cols].astype('category')\n",
        "df_food[continuous_cols] = df_food[continuous_cols].astype('float64')"
      ],
      "metadata": {
        "id": "99ebX4RCswUV"
      },
      "execution_count": null,
      "outputs": []
    },
    {
      "cell_type": "code",
      "source": [
        "## Print dataframe column types\n",
        "df_food.dtypes"
      ],
      "metadata": {
        "id": "mJn9_bz3s1jc",
        "colab": {
          "base_uri": "https://localhost:8080/"
        },
        "outputId": "2a0bb15f-009c-4ab0-f8a5-5dbf2a91f600"
      },
      "execution_count": null,
      "outputs": [
        {
          "output_type": "execute_result",
          "data": {
            "text/plain": [
              "Oil          float64\n",
              "Density      float64\n",
              "Crispy      category\n",
              "Fracture     float64\n",
              "Hardness     float64\n",
              "dtype: object"
            ]
          },
          "metadata": {},
          "execution_count": 35
        }
      ]
    },
    {
      "cell_type": "markdown",
      "source": [
        "---\n",
        "\n",
        "Principal component analysis (PCA) of the dataset\n",
        "\n",
        "---"
      ],
      "metadata": {
        "id": "AzO98OkKtunl"
      }
    },
    {
      "cell_type": "code",
      "source": [
        "np.array(df_food[continuous_cols])"
      ],
      "metadata": {
        "id": "hFvO9QAq_P4c",
        "colab": {
          "base_uri": "https://localhost:8080/"
        },
        "outputId": "1e9deb1b-08fc-42ed-e570-d6fa508f9cdb"
      },
      "execution_count": null,
      "outputs": [
        {
          "output_type": "execute_result",
          "data": {
            "text/plain": [
              "array([[  16.5, 2955. ,   23. ,   97. ],\n",
              "       [  17.7, 2660. ,    9. ,  139. ],\n",
              "       [  16.2, 2870. ,   17. ,  143. ],\n",
              "       [  16.7, 2920. ,   31. ,   95. ],\n",
              "       [  16.3, 2975. ,   26. ,  143. ],\n",
              "       [  19.1, 2790. ,   16. ,  189. ],\n",
              "       [  18.4, 2750. ,   17. ,  114. ],\n",
              "       [  17.5, 2770. ,   26. ,   63. ],\n",
              "       [  15.7, 2955. ,   23. ,  123. ],\n",
              "       [  16.4, 2945. ,   24. ,  132. ],\n",
              "       [  18. , 2830. ,   15. ,  121. ],\n",
              "       [  17.4, 2835. ,   18. ,  172. ],\n",
              "       [  18.4, 2860. ,   11. ,  170. ],\n",
              "       [  13.9, 2965. ,   19. ,  169. ],\n",
              "       [  15.8, 2930. ,   26. ,   65. ],\n",
              "       [  16.4, 2770. ,   16. ,  183. ],\n",
              "       [  18.9, 2650. ,   20. ,  114. ],\n",
              "       [  17.3, 2890. ,   17. ,  142. ],\n",
              "       [  16.7, 2695. ,   13. ,  111. ],\n",
              "       [  19.1, 2755. ,   10. ,  140. ],\n",
              "       [  13.7, 3000. ,   27. ,  177. ],\n",
              "       [  14.7, 2980. ,   20. ,  133. ],\n",
              "       [  18.1, 2780. ,   14. ,  150. ],\n",
              "       [  17.2, 2705. ,   27. ,  113. ],\n",
              "       [  18.7, 2825. ,   20. ,  166. ],\n",
              "       [  18.1, 2875. ,   15. ,  150. ],\n",
              "       [  16.6, 2945. ,   25. ,  100. ],\n",
              "       [  17.1, 2920. ,   25. ,  123. ],\n",
              "       [  17.4, 2845. ,   19. ,  129. ],\n",
              "       [  19.4, 2645. ,   18. ,   68. ],\n",
              "       [  15.9, 3080. ,   23. ,  106. ],\n",
              "       [  17.1, 2825. ,   28. ,  131. ],\n",
              "       [  15.5, 3125. ,   33. ,   92. ],\n",
              "       [  17.7, 2780. ,   22. ,  141. ],\n",
              "       [  15.9, 2900. ,   21. ,  192. ],\n",
              "       [  21.2, 2570. ,   13. ,  105. ],\n",
              "       [  19.5, 2635. ,   22. ,  101. ],\n",
              "       [  20.5, 2725. ,   16. ,  145. ],\n",
              "       [  17. , 2865. ,   22. ,  100. ],\n",
              "       [  16.7, 2975. ,   26. ,  105. ],\n",
              "       [  16.8, 2980. ,   24. ,  144. ],\n",
              "       [  16.8, 2870. ,   20. ,  123. ],\n",
              "       [  16.3, 2920. ,   22. ,  136. ],\n",
              "       [  16.2, 3100. ,   27. ,  140. ],\n",
              "       [  18.1, 2910. ,   21. ,  120. ],\n",
              "       [  16.6, 2865. ,   25. ,  120. ],\n",
              "       [  16.4, 2995. ,   20. ,  165. ],\n",
              "       [  15.1, 2925. ,   29. ,  118. ],\n",
              "       [  21.1, 2700. ,   16. ,  116. ],\n",
              "       [  16.3, 2845. ,   26. ,   75. ]])"
            ]
          },
          "metadata": {},
          "execution_count": 36
        }
      ]
    },
    {
      "cell_type": "code",
      "source": [
        "X = np.array(df_food[continuous_cols])\n",
        "X"
      ],
      "metadata": {
        "id": "Eg2yIVcqpE3P"
      },
      "execution_count": null,
      "outputs": []
    },
    {
      "cell_type": "code",
      "source": [
        "# numpy array of data\n",
        "X = np.array(df_food[continuous_cols])#mean centering doesnt apply for categorical\n",
        "# Cree and fit PCA object\n",
        "pca = PCA(n_components = 1)\n",
        "pca.fit(X)\n",
        "\n",
        "# Print principal components\n",
        "print(pca.components_)\n",
        "\n",
        "# Print explained variance\n",
        "print(pca.explained_variance_)"
      ],
      "metadata": {
        "id": "A5x0syMhs6xt",
        "colab": {
          "base_uri": "https://localhost:8080/"
        },
        "outputId": "f0ae2800-0d5c-411d-ecd5-e26c3eaebb8a"
      },
      "execution_count": null,
      "outputs": [
        {
          "output_type": "stream",
          "name": "stdout",
          "text": [
            "[[ 0.00958687 -0.99923202 -0.0249962  -0.02861215]]\n",
            "[15523.38854181]\n"
          ]
        }
      ]
    },
    {
      "cell_type": "code",
      "source": [
        "np.zeros=zeros_array_1d = np.zeros(5)"
      ],
      "metadata": {
        "id": "7o7gNiOnUlzL"
      },
      "execution_count": null,
      "outputs": []
    },
    {
      "cell_type": "code",
      "source": [
        "#v=pca.components_\n",
        "v=np.array([1,1,1,1])\n",
        "print (np.linalg.norm(v))\n",
        "print(v)\n",
        "x_projected =np.dot(X,v)/np.linalg.norm(v)\n",
        "print(np.var(x_projected))\n",
        "print(x_projected)\n",
        "fig,ax=plt.subplots(1,1,figsize =(6,4))\n",
        "fig.tight_layout(pad = 5.0)\n",
        "ax.scatter(x_projected,np.zeros(np.arange(x_projected)))\n",
        "ax.set_xlim([-4000,4000])\n"
      ],
      "metadata": {
        "id": "yc3S0pibQa12"
      },
      "execution_count": null,
      "outputs": []
    },
    {
      "cell_type": "code",
      "source": [
        "df_food[continuous_cols].columns"
      ],
      "metadata": {
        "id": "KF2Jm-kABHqA"
      },
      "execution_count": null,
      "outputs": []
    },
    {
      "cell_type": "code",
      "source": [
        "df_food['Density']"
      ],
      "metadata": {
        "id": "SpROgza6CWik"
      },
      "execution_count": null,
      "outputs": []
    },
    {
      "cell_type": "code",
      "source": [
        "sc = StandardScaler()\n",
        "X = sc.fit_transform(np.array(df_food[continuous_cols]))\n",
        "print(X)"
      ],
      "metadata": {
        "id": "3pXBM9o9DGcb"
      },
      "execution_count": null,
      "outputs": []
    },
    {
      "cell_type": "code",
      "source": [
        "a = np.array(df_food['Density'])\n",
        "print(np.mean(a))\n",
        "print(np.std(a))\n",
        "np.where((a-np.mean(a))/np.std(a) >= 1.5)"
      ],
      "metadata": {
        "id": "AxNogr-xEC1n"
      },
      "execution_count": null,
      "outputs": []
    },
    {
      "cell_type": "code",
      "source": [
        "fig, ax = plt.subplots(1, 1, figsize = (10, 6))\n",
        "fig.tight_layout(pad = 4.0)\n",
        "binwidth = 20\n",
        "ax.hist(a, bins = np.arange(np.min(a), np.max(a) + binwidth, binwidth))\n",
        "ax.set_xlabel('Oil Density', fontsize = 14)\n",
        "ax.set_ylabel('Count', fontsize = 14)\n",
        "ax.set_xticks(np.arange(np.min(a), np.max(a) + binwidth, binwidth));"
      ],
      "metadata": {
        "id": "pOmb3XVDGLjn"
      },
      "execution_count": null,
      "outputs": []
    },
    {
      "cell_type": "code",
      "source": [
        "# numpy array of data\n",
        "sc = StandardScaler()\n",
        "X = sc.fit_transform(np.array(df_food[continuous_cols]))\n",
        "# Cree and fit PCA object\n",
        "pca = PCA(n_components = 1)\n",
        "pca.fit(X)\n",
        "\n",
        "# Print principal components\n",
        "print(pca.components_)\n",
        "\n",
        "# Print explained variance\n",
        "print(pca.explained_variance_)"
      ],
      "metadata": {
        "id": "acdAJkhWCuqF"
      },
      "execution_count": null,
      "outputs": []
    },
    {
      "cell_type": "code",
      "source": [
        "v = np.array(pca.components_).flatten()\n",
        "print(v)\n",
        "print(X[0, :])\n",
        "np.dot(X[0, :], v)\n",
        "np.dot(X, v)"
      ],
      "metadata": {
        "id": "zOkvcqeeJK8H"
      },
      "execution_count": null,
      "outputs": []
    },
    {
      "cell_type": "code",
      "source": [
        "# numpy array of data\n",
        "sc = StandardScaler()\n",
        "X = sc.fit_transform(np.array(df_food[continuous_cols]))\n",
        "# Create and fit PCA object\n",
        "pca = PCA(n_components = 2)\n",
        "pca.fit(X)\n",
        "\n",
        "# Print principal components\n",
        "print(pca.components_)\n",
        "\n",
        "# Print explained variance\n",
        "print(pca.explained_variance_)"
      ],
      "metadata": {
        "id": "Zmz9KvmiLQc_"
      },
      "execution_count": null,
      "outputs": []
    },
    {
      "cell_type": "code",
      "source": [
        "print(pca.explained_variance_)\n",
        "print(np.cumsum(pca.explained_variance_))\n",
        "print(2.29331669/4.08163265)\n",
        "print(3.53112429/4.08163265)\n",
        "print(3.83852725/4.08163265)"
      ],
      "metadata": {
        "id": "xAuD1OZENW0F"
      },
      "execution_count": null,
      "outputs": []
    },
    {
      "cell_type": "markdown",
      "source": [
        "---\n",
        "\n",
        "Following is a user-defined function for plotting 2D-data and the principal component vectors\n",
        "\n",
        "---"
      ],
      "metadata": {
        "id": "bucuCZ-3vCcS"
      }
    },
    {
      "cell_type": "code",
      "source": [
        "def draw_vector(v0, v1, ax = None):\n",
        "  ax = ax or plt.gca()\n",
        "  arrowprops=dict(arrowstyle = '->',\n",
        "  linewidth=2,\n",
        "  shrinkA=0, shrinkB=0)\n",
        "  ax.annotate('', v1, v0, arrowprops = arrowprops)"
      ],
      "metadata": {
        "id": "i0VsiVcFuXGU"
      },
      "execution_count": null,
      "outputs": []
    },
    {
      "cell_type": "code",
      "source": [
        "pca.mean_"
      ],
      "metadata": {
        "id": "K250JEWwQf7Q"
      },
      "execution_count": null,
      "outputs": []
    },
    {
      "cell_type": "code",
      "source": [
        "## Plot data with principal component vectors\n",
        "plt.scatter(X[:, 0], X[:, 1], alpha=0.2)\n",
        "for length, vector in zip(pca.explained_variance_, pca.components_):\n",
        " v = vector * 3 * np.sqrt(length)\n",
        " draw_vector(pca.mean_, pca.mean_ + v)\n",
        "plt.axis('equal');"
      ],
      "metadata": {
        "id": "jQ8XGC_YvZIj"
      },
      "execution_count": null,
      "outputs": []
    },
    {
      "cell_type": "code",
      "source": [
        "np.dot(X, np.array(pca.components_))"
      ],
      "metadata": {
        "id": "Dgval7UIQxVP"
      },
      "execution_count": null,
      "outputs": []
    }
  ]
}