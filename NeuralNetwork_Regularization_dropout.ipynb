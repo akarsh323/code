{
  "cells": [
    {
      "cell_type": "code",
      "execution_count": 1,
      "metadata": {
        "id": "5dEgRpy3952M"
      },
      "outputs": [
        {
          "name": "stderr",
          "output_type": "stream",
          "text": [
            "/Users/akarsh/Library/Python/3.9/lib/python/site-packages/urllib3/__init__.py:34: NotOpenSSLWarning: urllib3 v2.0 only supports OpenSSL 1.1.1+, currently the 'ssl' module is compiled with 'LibreSSL 2.8.3'. See: https://github.com/urllib3/urllib3/issues/3020\n",
            "  warnings.warn(\n"
          ]
        }
      ],
      "source": [
        "## Load libraries\n",
        "import pandas as pd\n",
        "import numpy as np\n",
        "import sys\n",
        "import matplotlib.pyplot as plt\n",
        "import matplotlib.cm as cm\n",
        "from keras.datasets import mnist\n",
        "plt.style.use('dark_background')\n",
        "%matplotlib inline"
      ]
    },
    {
      "cell_type": "code",
      "execution_count": 2,
      "metadata": {
        "id": "G9W_1_v_6yq7"
      },
      "outputs": [],
      "source": [
        "np.set_printoptions(precision=2)"
      ]
    },
    {
      "cell_type": "code",
      "execution_count": 3,
      "metadata": {
        "id": "4T7eUtw7Mh0z"
      },
      "outputs": [],
      "source": [
        "import tensorflow as tf"
      ]
    },
    {
      "cell_type": "code",
      "execution_count": 4,
      "metadata": {
        "colab": {
          "base_uri": "https://localhost:8080/",
          "height": 35
        },
        "id": "Q1e2N5S8MlCU",
        "outputId": "9fc67423-9336-4ad6-968c-037a33ee9fab"
      },
      "outputs": [
        {
          "data": {
            "text/plain": [
              "'2.14.0'"
            ]
          },
          "execution_count": 4,
          "metadata": {},
          "output_type": "execute_result"
        }
      ],
      "source": [
        "tf.__version__"
      ]
    },
    {
      "cell_type": "markdown",
      "metadata": {
        "id": "16BpVeIWIOks"
      },
      "source": [
        "---\n",
        "\n",
        "Load MNIST Data\n",
        "\n",
        "---"
      ]
    },
    {
      "cell_type": "code",
      "execution_count": 5,
      "metadata": {
        "colab": {
          "base_uri": "https://localhost:8080/"
        },
        "id": "E5kaKFKSIQgu",
        "outputId": "74daa621-a845-489a-ad69-e94c759b6c16"
      },
      "outputs": [
        {
          "name": "stdout",
          "output_type": "stream",
          "text": [
            "MNIST set\n",
            "---------------------\n",
            "Number of training samples = 60000\n",
            "Number of features = 784\n",
            "Number of output labels = 10\n"
          ]
        }
      ],
      "source": [
        "## Load MNIST data\n",
        "(X_train, y_train), (X_test, y_test) = mnist.load_data()\n",
        "X_train = X_train.transpose(1, 2, 0)\n",
        "X_test = X_test.transpose(1, 2, 0)\n",
        "X_train = X_train.reshape(X_train.shape[0]*X_train.shape[1], X_train.shape[2])\n",
        "X_test = X_test.reshape(X_test.shape[0]*X_test.shape[1], X_test.shape[2])\n",
        "\n",
        "num_labels = len(np.unique(y_train))\n",
        "num_features = X_train.shape[0]\n",
        "num_samples = X_train.shape[1]\n",
        "\n",
        "# One-hot encode class labels\n",
        "Y_train = tf.keras.utils.to_categorical(y_train).T\n",
        "Y_test = tf.keras.utils.to_categorical(y_test).T\n",
        "\n",
        "\n",
        "# Normalize the samples (images)\n",
        "xmax = np.amax(X_train)\n",
        "xmin = np.amin(X_train)\n",
        "X_train = (X_train - xmin) / (xmax - xmin) # all train features turn into a number between 0 and 1\n",
        "X_test = (X_test - xmin)/(xmax - xmin)\n",
        "\n",
        "print('MNIST set')\n",
        "print('---------------------')\n",
        "print('Number of training samples = %d'%(num_samples))\n",
        "print('Number of features = %d'%(num_features))\n",
        "print('Number of output labels = %d'%(num_labels))"
      ]
    },
    {
      "cell_type": "markdown",
      "metadata": {
        "id": "IrXipxwrJ0_8"
      },
      "source": [
        "---\n",
        "\n",
        "A generic layer class with forward and backward methods\n",
        "\n",
        "----"
      ]
    },
    {
      "cell_type": "code",
      "execution_count": 6,
      "metadata": {
        "id": "N4pKUhCyMrWm"
      },
      "outputs": [],
      "source": [
        "class Layer:\n",
        "  def __init__(self):\n",
        "    self.input = None\n",
        "    self.output = None\n",
        "\n",
        "  def forward(self, input):\n",
        "    pass\n",
        "\n",
        "  def backward(self, output_gradient, learning_rate):\n",
        "    pass"
      ]
    },
    {
      "cell_type": "markdown",
      "metadata": {
        "id": "UMt81Faf9-bf"
      },
      "source": [
        "---\n",
        "\n",
        "CCE loss and its gradient\n",
        "\n",
        "---"
      ]
    },
    {
      "cell_type": "code",
      "execution_count": 7,
      "metadata": {
        "id": "hdXSGW2s7zKd"
      },
      "outputs": [],
      "source": [
        "## Define the loss function and its gradient\n",
        "def cce(Y, Yhat):\n",
        "  return(np.mean(np.sum(-Y*np.log(Yhat), axis = 0)))\n",
        "  #TensorFlow in-built function for categorical crossentropy loss\n",
        "  #cce = tf.keras.losses.CategoricalCrossentropy()\n",
        "  #return(cce(Y, Yhat).numpy())\n",
        "\n",
        "def cce_gradient(Y, Yhat):\n",
        "  return(-Y/Yhat)"
      ]
    },
    {
      "cell_type": "markdown",
      "metadata": {
        "id": "jmcNJTjS-BaW"
      },
      "source": [
        "---\n",
        "\n",
        "Generic activation layer class\n",
        "\n",
        "---"
      ]
    },
    {
      "cell_type": "code",
      "execution_count": 8,
      "metadata": {
        "id": "C21FcWIEwGCN"
      },
      "outputs": [],
      "source": [
        "class Activation(Layer):\n",
        "    def __init__(self, activation, activation_gradient):\n",
        "        self.activation = activation\n",
        "        self.activation_gradient = activation_gradient\n",
        "\n",
        "    def forward(self, input):\n",
        "        self.input = input\n",
        "        self.output = self.activation(self.input)\n",
        "        return(self.output)\n",
        "\n",
        "    def backward(self, output_gradient, learning_rate = None):\n",
        "        return(output_gradient * self.activation_gradient(self.input))"
      ]
    },
    {
      "cell_type": "markdown",
      "metadata": {
        "id": "JheGWSoKxYWu"
      },
      "source": [
        "---\n",
        "\n",
        "Specific activation layer classes\n",
        "\n",
        "---"
      ]
    },
    {
      "cell_type": "code",
      "execution_count": 10,
      "metadata": {
        "id": "PQ5ybz_Yxbef"
      },
      "outputs": [],
      "source": [
        "class Sigmoid(Activation):\n",
        "    def __init__(self):\n",
        "        def sigmoid(z):\n",
        "            return 1 / (1 + np.exp(-z))\n",
        "\n",
        "        def sigmoid_gradient(z):\n",
        "            a = sigmoid(z)\n",
        "            return a * (1 - a)\n",
        "\n",
        "        super().__init__(sigmoid, sigmoid_gradient)\n",
        "\n",
        "class Tanh(Activation):\n",
        "    def __init__(self):\n",
        "        def tanh(z):\n",
        "            return np.tanh(z)\n",
        "\n",
        "        def tanh_gradient(z):\n",
        "            a = np.tanh(z)\n",
        "            return 1 - a**2\n",
        "\n",
        "        super().__init__(tanh, tanh_gradient)\n",
        "\n",
        "class ReLU(Activation):\n",
        "    def __init__(self):\n",
        "        def relu(z):\n",
        "            return z * (z > 0)\n",
        "\n",
        "        def relu_gradient(z):\n",
        "            return 1. * (z > 0)\n",
        "\n",
        "        super().__init__(relu, relu_gradient)"
      ]
    },
    {
      "cell_type": "markdown",
      "metadata": {
        "id": "LGdr2m2R-It8"
      },
      "source": [
        "---\n",
        "\n",
        "Softmax activation layer class\n",
        "\n",
        "---"
      ]
    },
    {
      "cell_type": "code",
      "execution_count": 11,
      "metadata": {
        "id": "4x1Xn3AbJlNy"
      },
      "outputs": [],
      "source": [
        "## Softmax activation layer class\n",
        "class Softmax(Layer):\n",
        "  def forward(self, input):\n",
        "    self.output = tf.nn.softmax(input, axis = 0).numpy()\n",
        "\n",
        "  def backward(self, output_gradient, learning_rate = None):\n",
        "    ## Following is the inefficient way of calculating the backward gradient\n",
        "    softmax_gradient = np.empty((self.output.shape[0], output_gradient.shape[1]), dtype = np.float64)\n",
        "    #for b in range(softmax_gradient.shape[1]):\n",
        "    #  softmax_gradient[:, b] = np.dot((np.identity(self.output.shape[0])-np.atleast_2d(self.output[:, b])) * np.atleast_2d(self.output[:, b]).T, output_gradient[:, b])\n",
        "    #return(softmax_gradient)\n",
        "    ## Following is the efficient of calculating the backward gradient\n",
        "    T = np.transpose(np.identity(self.output.shape[0]) - np.atleast_2d(self.output).T[:, np.newaxis, :], (2, 1, 0)) * np.atleast_2d(self.output)\n",
        "    return(np.einsum('jik, ik -> jk', T, output_gradient))"
      ]
    },
    {
      "cell_type": "markdown",
      "metadata": {
        "id": "UKnqi7rf-MBn"
      },
      "source": [
        "---\n",
        "\n",
        "Dense layer class\n",
        "\n",
        "---"
      ]
    },
    {
      "cell_type": "code",
      "execution_count": 12,
      "metadata": {
        "id": "8ctXhZYCTmHK"
      },
      "outputs": [],
      "source": [
        "## Dense layer class\n",
        "class Dense(Layer):\n",
        "    def __init__(self, input_size, output_size, reg_strength):\n",
        "        self.weights = 0.01*np.random.randn(output_size, input_size+1) # bias trick\n",
        "        self.weights[:, -1] = 0.01 # set all bias values to the same nonzero constant\n",
        "        self.reg_strength = reg_strength\n",
        "        self.reg_loss = None\n",
        "\n",
        "    def forward(self, input):\n",
        "        self.input = np.vstack([input, np.ones((1, input.shape[1]))]) # bias trick\n",
        "        self.output= np.dot(self.weights, self.input)\n",
        "        # Calculate regularization loss\n",
        "        self.reg_loss = self.reg_strength * np.sum(self.weights[:, :-1] * self.weights[:, :-1])\n",
        "\n",
        "    def backward(self, output_gradient, learning_rate):\n",
        "        ## Following is the inefficient way of calculating the backward gradient\n",
        "        #weights_gradient = np.zeros((self.output.shape[0], self.input.shape[0]), dtype = np.float64)\n",
        "        #for b in range(output_gradient.shape[1]):\n",
        "        #  weights_gradient += np.dot(output_gradient[:, b].reshape(-1, 1), self.input[:, b].reshape(-1, 1).T)\n",
        "        #weights_gradient = (1/output_gradient.shape[1])*weights_gradient\n",
        "\n",
        "        ## Following is the efficient way of calculating the weights gradient w.r.t. data\n",
        "        weights_gradient = (1/output_gradient.shape[1])*np.dot(np.atleast_2d(output_gradient), np.atleast_2d(self.input).T)\n",
        "        # Add the regularization gradient here\n",
        "        weights_gradient += 2 * self.reg_strength * np.hstack([self.weights[:, :-1], np.zeros((self.weights.shape[0], 1))])\n",
        "\n",
        "\n",
        "        input_gradient = np.dot(self.weights.T, output_gradient)\n",
        "        self.weights = self.weights + learning_rate * (-weights_gradient)\n",
        "\n",
        "        return(input_gradient)"
      ]
    },
    {
      "cell_type": "code",
      "execution_count": 13,
      "metadata": {
        "id": "9MlSGFIvzqBm"
      },
      "outputs": [],
      "source": [
        "class Dropout(Layer):\n",
        "\n",
        "  def __init__(self, dropout_probability = 0.02):\n",
        "    self.dropout_probability = dropout_probability\n",
        "    self.D = None\n",
        "\n",
        "  def forward(self, input):\n",
        "    self.D = (np.random.rand(input.shape[0],input.shape[1]))\n",
        "    self.D = (self.D < (1 - self.dropout_probability))\n",
        "    self.output = (input * self.D) / (1- self.dropout_probability)\n",
        "    self.output\n",
        "\n",
        "  def backward(self, output_gradient):\n",
        "    return(self.D * output_gradient[:-1,:])"
      ]
    },
    {
      "cell_type": "markdown",
      "metadata": {
        "id": "2W1howeOJegI"
      },
      "source": [
        "---\n",
        "\n",
        "Function to generate sample indices for batch processing according to batch size\n",
        "\n",
        "---"
      ]
    },
    {
      "cell_type": "code",
      "execution_count": 14,
      "metadata": {
        "id": "MHyjEf22IRpc"
      },
      "outputs": [],
      "source": [
        "## Function to generate sample indices for batch processing according to batch size\n",
        "def generate_batch_indices(num_samples, batch_size):\n",
        "  # Reorder sample indices\n",
        "  reordered_sample_indices = np.random.choice(num_samples, num_samples, replace = False)\n",
        "  # Generate batch indices for batch processing\n",
        "  batch_indices = np.split(reordered_sample_indices, np.arange(batch_size, len(reordered_sample_indices), batch_size))\n",
        "  return(batch_indices)"
      ]
    },
    {
      "cell_type": "markdown",
      "metadata": {
        "id": "fI_Gms9fJqbs"
      },
      "source": [
        "---\n",
        "\n",
        "Train the 1-hidden layer neural network (128 nodes) using batch training with batch size = 100\n",
        "\n",
        "---"
      ]
    },
    {
      "cell_type": "code",
      "execution_count": 15,
      "metadata": {
        "colab": {
          "base_uri": "https://localhost:8080/"
        },
        "id": "LGIzrN-rPuI4",
        "outputId": "3df0c8ca-2019-4523-c89f-c25324392f85"
      },
      "outputs": [
        {
          "name": "stdout",
          "output_type": "stream",
          "text": [
            "Epoch 1: train loss = 1.072623, test loss = 1.037247\n",
            "Epoch 2: train loss = 0.989276, test loss = 1.007154\n",
            "Epoch 3: train loss = 0.979016, test loss = 0.993391\n",
            "Epoch 4: train loss = 0.983459, test loss = 1.213874\n",
            "Epoch 5: train loss = 0.997759, test loss = 0.877429\n",
            "Epoch 6: train loss = 0.987077, test loss = 0.852247\n",
            "Epoch 7: train loss = 1.000806, test loss = 1.152306\n",
            "Epoch 8: train loss = 0.983074, test loss = 1.510620\n",
            "Epoch 9: train loss = 0.994391, test loss = 1.105392\n",
            "Epoch 10: train loss = 0.982107, test loss = 1.043629\n",
            "Epoch 11: train loss = 1.003009, test loss = 1.116675\n",
            "Epoch 12: train loss = 1.014147, test loss = 0.922297\n",
            "Epoch 13: train loss = 1.000980, test loss = 0.889223\n",
            "Epoch 14: train loss = 1.012269, test loss = 0.907195\n",
            "Epoch 15: train loss = 0.995364, test loss = 0.942001\n",
            "Epoch 16: train loss = 1.010114, test loss = 1.095660\n",
            "Epoch 17: train loss = 1.011815, test loss = 1.344473\n",
            "Epoch 18: train loss = 1.011591, test loss = 1.081012\n",
            "Epoch 19: train loss = 1.000531, test loss = 0.916878\n",
            "Epoch 20: train loss = 1.019449, test loss = 1.067967\n",
            "Epoch 21: train loss = 1.000433, test loss = 1.232386\n",
            "Epoch 22: train loss = 0.993498, test loss = 1.014172\n",
            "Epoch 23: train loss = 0.991028, test loss = 0.858509\n",
            "Epoch 24: train loss = 1.003435, test loss = 1.038028\n",
            "Epoch 25: train loss = 0.994523, test loss = 0.944276\n",
            "Epoch 26: train loss = 1.026158, test loss = 0.837834\n",
            "Epoch 27: train loss = 1.033098, test loss = 0.928936\n",
            "Epoch 28: train loss = 1.017124, test loss = 1.142313\n",
            "Epoch 29: train loss = 1.040347, test loss = 1.046260\n",
            "Epoch 30: train loss = 1.039537, test loss = 1.006037\n",
            "Epoch 31: train loss = 1.026973, test loss = 1.016907\n",
            "Epoch 32: train loss = 1.030955, test loss = 0.924871\n",
            "Epoch 33: train loss = 1.051324, test loss = 0.837223\n",
            "Epoch 34: train loss = 1.052763, test loss = 0.885045\n",
            "Epoch 35: train loss = 1.027240, test loss = 0.981301\n",
            "Epoch 36: train loss = 1.020003, test loss = 0.992892\n",
            "Epoch 37: train loss = 1.005187, test loss = 1.157098\n",
            "Epoch 38: train loss = 1.022421, test loss = 0.887328\n",
            "Epoch 39: train loss = 1.031150, test loss = 0.905623\n",
            "Epoch 40: train loss = 1.031761, test loss = 0.861835\n",
            "Epoch 41: train loss = 1.041964, test loss = 0.974873\n",
            "Epoch 42: train loss = 1.022647, test loss = 1.197322\n",
            "Epoch 43: train loss = 1.024574, test loss = 0.833932\n",
            "Epoch 44: train loss = 1.021126, test loss = 0.946572\n",
            "Epoch 45: train loss = 1.018328, test loss = 1.109375\n",
            "Epoch 46: train loss = 1.020868, test loss = 1.189777\n",
            "Epoch 47: train loss = 1.023380, test loss = 0.974256\n",
            "Epoch 48: train loss = 1.021171, test loss = 1.335613\n",
            "Epoch 49: train loss = 1.042917, test loss = 1.130713\n",
            "Epoch 50: train loss = 1.043267, test loss = 0.968637\n",
            "Epoch 51: train loss = 1.068406, test loss = 1.472428\n",
            "Epoch 52: train loss = 1.024258, test loss = 1.024232\n",
            "Epoch 53: train loss = 1.044986, test loss = 1.149932\n",
            "Epoch 54: train loss = 1.072160, test loss = 1.027564\n",
            "Epoch 55: train loss = 1.057430, test loss = 1.263028\n",
            "Epoch 56: train loss = 1.052364, test loss = 0.925425\n",
            "Epoch 57: train loss = 1.071774, test loss = 0.956383\n",
            "Epoch 58: train loss = 1.075062, test loss = 0.807145\n",
            "Epoch 59: train loss = 1.098924, test loss = 1.604843\n",
            "Epoch 60: train loss = 1.118705, test loss = 0.937471\n",
            "Epoch 61: train loss = 1.085063, test loss = 0.818831\n",
            "Epoch 62: train loss = 1.076773, test loss = 0.984731\n",
            "Epoch 63: train loss = 1.045219, test loss = 0.914137\n",
            "Epoch 64: train loss = 1.149969, test loss = 1.595960\n",
            "Epoch 65: train loss = 1.069218, test loss = 0.945820\n",
            "Epoch 66: train loss = 1.062293, test loss = 1.420690\n",
            "Epoch 67: train loss = 1.103363, test loss = 0.925149\n",
            "Epoch 68: train loss = 1.077175, test loss = 0.946569\n",
            "Epoch 69: train loss = 1.046076, test loss = 0.850900\n",
            "Epoch 70: train loss = 1.139465, test loss = 1.056673\n",
            "Epoch 71: train loss = 1.142810, test loss = 1.020954\n",
            "Epoch 72: train loss = 1.070227, test loss = 1.040582\n",
            "Epoch 73: train loss = 1.094149, test loss = 1.002710\n",
            "Epoch 74: train loss = 1.197121, test loss = 1.671407\n",
            "Epoch 75: train loss = 1.169538, test loss = 0.916397\n",
            "Epoch 76: train loss = 1.166824, test loss = 1.061046\n",
            "Epoch 77: train loss = 1.076896, test loss = 1.096147\n",
            "Epoch 78: train loss = 1.117979, test loss = 0.830247\n",
            "Epoch 79: train loss = 1.261656, test loss = 0.972494\n",
            "Epoch 80: train loss = 1.210486, test loss = 1.643576\n",
            "Epoch 81: train loss = 1.199604, test loss = 1.440037\n",
            "Epoch 82: train loss = 1.250680, test loss = 1.044036\n",
            "Epoch 83: train loss = 1.438152, test loss = 1.131446\n",
            "Epoch 84: train loss = 1.460567, test loss = 0.915379\n",
            "Epoch 85: train loss = 1.323998, test loss = 1.245809\n",
            "Epoch 86: train loss = 1.309789, test loss = 1.007344\n",
            "Epoch 87: train loss = 1.409285, test loss = 1.487974\n",
            "Epoch 88: train loss = 1.436700, test loss = 1.216459\n",
            "Epoch 89: train loss = 1.413926, test loss = 1.179586\n",
            "Epoch 90: train loss = 1.430047, test loss = 1.247988\n",
            "Epoch 91: train loss = 1.425847, test loss = 1.055710\n",
            "Epoch 92: train loss = 1.623917, test loss = 1.328415\n",
            "Epoch 93: train loss = 1.500724, test loss = 1.166055\n",
            "Epoch 94: train loss = 1.449720, test loss = 2.196453\n",
            "Epoch 95: train loss = 1.478096, test loss = 1.339785\n",
            "Epoch 96: train loss = 1.425450, test loss = 1.176698\n",
            "Epoch 97: train loss = 1.556941, test loss = 1.192240\n",
            "Epoch 98: train loss = 1.416575, test loss = 2.346251\n",
            "Epoch 99: train loss = 1.556855, test loss = 1.753782\n",
            "Epoch 100: train loss = 1.465056, test loss = 1.381889\n"
          ]
        }
      ],
      "source": [
        "## Train the 2-hidden layer neural network (128 nodes)\n",
        "## using batch training with batch size = 100\n",
        "learning_rate = 1# learning rate\n",
        "batch_size = 100 # batch size\n",
        "nepochs = 100 # number of epochs\n",
        "reg_strength = 0.01 # regularization strength\n",
        "# Create empty array to store training losses over each epoch\n",
        "loss_train_epoch = np.empty(nepochs, dtype = np.float64)\n",
        "# Create empty array to store test losses over each epoch\n",
        "loss_test_epoch = np.empty(nepochs, dtype = np.float64)\n",
        "\n",
        "\n",
        "# Neural network architecture\n",
        "\n",
        "dlayer1 = Dense(num_features, 128, reg_strength) # define dense layer 1\n",
        "alayer1 = ReLU() # ReLU activation layer 1\n",
        "dropout1 = Dropout(0.5)\n",
        "dlayer2 = Dense(128, num_labels, reg_strength) # define dense layer 2\n",
        "softmax = Softmax() # define softmax activation layer\n",
        "\n",
        "# Steps: run over each sample in the batch, calculate loss, gradient of loss,\n",
        "# and update weights.\n",
        "\n",
        "epoch = 0\n",
        "while epoch < nepochs:\n",
        "  batch_indices = generate_batch_indices(num_samples, batch_size)\n",
        "  loss = 0\n",
        "  for b in range(len(batch_indices)):\n",
        "    # Forward propagation for training data\n",
        "    dlayer1.forward(X_train[:, batch_indices[b]]) # forward prop dense layer 1 with batch feature added\n",
        "    alayer1.forward(dlayer1.output) # forward prop activation layer 1\n",
        "    dropout1.forward(alayer1.output)\n",
        "    dlayer2.forward(alayer1.output) # forward prop dense layer 2\n",
        "    softmax.forward(dlayer2.output) # Softmax activate\n",
        "    # Calculate training data loss\n",
        "    loss += cce(Y_train[:, batch_indices[b]], softmax.output)\n",
        "    # Add the regularization losses\n",
        "    loss += dlayer1.reg_loss + dlayer2.reg_loss\n",
        "\n",
        "    # Backward prop starts here\n",
        "    grad = cce_gradient(Y_train[:, batch_indices[b]], softmax.output)\n",
        "    grad = softmax.backward(grad)\n",
        "    grad = dlayer2.backward(grad, learning_rate)\n",
        "    grad = dropout1.backward(grad)\n",
        "    grad = alayer1.backward(grad)\n",
        "    grad = dlayer1.backward(grad, learning_rate)\n",
        "  # Calculate the average training loss for the current epoch\n",
        "  loss_train_epoch[epoch] = loss/len(batch_indices)\n",
        "\n",
        "  # Forward propagation for test data\n",
        "  dlayer1.forward(X_test)\n",
        "  alayer1.forward(dlayer1.output)\n",
        "  dlayer2.forward(alayer1.output)\n",
        "  softmax.forward(dlayer2.output)\n",
        "\n",
        "  # Calculate test data loss plus regularization loss\n",
        "  loss_test_epoch[epoch] =  cce(Y_test, softmax.output) + dlayer1.reg_loss + dlayer2.reg_loss\n",
        "\n",
        "  print('Epoch %d: train loss = %f, test loss = %f'%(epoch+1, loss_train_epoch[epoch], loss_test_epoch[epoch]))\n",
        "  epoch = epoch + 1\n",
        "  \n",
        "\n",
        "  \n"
      ]
    },
    {
      "cell_type": "markdown",
      "metadata": {
        "id": "EhXEFASk-Tkv"
      },
      "source": [
        "---\n",
        "\n",
        "Plot training loss vs. epoch\n",
        "\n",
        "---"
      ]
    },
    {
      "cell_type": "code",
      "execution_count": 18,
      "metadata": {
        "id": "Iv3k23SlCqGf"
      },
      "outputs": [
        {
          "data": {
            "image/png": "[encoded data removed]",
            "text/plain": [
              "<Figure size 640x480 with 1 Axes>"
            ]
          },
          "metadata": {},
          "output_type": "display_data"
        }
      ],
      "source": [
        "# Plot train loss vs test loss curve\n",
        "import matplotlib.pyplot as plt\n",
        "plt.plot(range(1, nepochs+1), loss_train_epoch, label='Train Loss')\n",
        "plt.plot(range(1, nepochs+1), loss_test_epoch, label='Test Loss')\n",
        "plt.xlabel('Epoch')\n",
        "plt.ylabel('Loss')\n",
        "plt.title('Train Loss vs Test Loss')\n",
        "plt.legend()\n",
        "plt.show()"
      ]
    },
    {
      "cell_type": "markdown",
      "metadata": {
        "id": "TaLoOOWK-WBj"
      },
      "source": [
        "---\n",
        "\n",
        "Test performance on test data\n",
        "\n",
        "---"
      ]
    },
    {
      "cell_type": "code",
      "execution_count": 19,
      "metadata": {
        "id": "d7AEbmpcKcPY"
      },
      "outputs": [
        {
          "name": "stdout",
          "output_type": "stream",
          "text": [
            "[7 2 1 ... 4 8 6]\n",
            "[7 2 1 ... 4 5 6]\n"
          ]
        },
        {
          "data": {
            "text/plain": [
              "0.6002"
            ]
          },
          "execution_count": 19,
          "metadata": {},
          "output_type": "execute_result"
        }
      ],
      "source": [
        "dlayer1.forward(X_test)\n",
        "alayer1.forward(dlayer1.output)\n",
        "dlayer2.forward(alayer1.output)\n",
        "softmax.forward(dlayer2.output)\n",
        "ypred = np.argmax(softmax.output.T, axis = 1)\n",
        "print(ypred)\n",
        "ytrue = np.argmax(Y_test.T, axis = 1)\n",
        "print(ytrue)\n",
        "np.mean(ytrue == ypred)"
      ]
    }
  ],
  "metadata": {
    "colab": {
      "provenance": []
    },
    "kernelspec": {
      "display_name": "Python 3",
      "name": "python3"
    },
    "language_info": {
      "codemirror_mode": {
        "name": "ipython",
        "version": 3
      },
      "file_extension": ".py",
      "mimetype": "text/x-python",
      "name": "python",
      "nbconvert_exporter": "python",
      "pygments_lexer": "ipython3",
      "version": "3.9.6"
    }
  },
  "nbformat": 4,
  "nbformat_minor": 0
}
